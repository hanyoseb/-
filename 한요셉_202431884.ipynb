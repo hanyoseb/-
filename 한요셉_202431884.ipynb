{
  "nbformat": 4,
  "nbformat_minor": 0,
  "metadata": {
    "colab": {
      "provenance": [],
      "authorship_tag": "ABX9TyP1JOqszTEiptvw1w9yAJak",
      "include_colab_link": true
    },
    "kernelspec": {
      "name": "python3",
      "display_name": "Python 3"
    },
    "language_info": {
      "name": "python"
    }
  },
  "cells": [
    {
      "cell_type": "markdown",
      "metadata": {
        "id": "view-in-github",
        "colab_type": "text"
      },
      "source": [
        "<a href=\"https://colab.research.google.com/github/hanyoseb/-/blob/main/%ED%95%9C%EC%9A%94%EC%85%89_202431884.ipynb\" target=\"_parent\"><img src=\"https://colab.research.google.com/assets/colab-badge.svg\" alt=\"Open In Colab\"/></a>"
      ]
    },
    {
      "cell_type": "code",
      "source": [
        "import math\n",
        "\n",
        "# 계수 입력 받기\n",
        "a = float(input(\"a 값을 입력하세요: \"))\n",
        "b = float(input(\"b 값을 입력하세요: \"))\n",
        "c = float(input(\"c 값을 입력하세요: \"))\n",
        "\n",
        "# 판별식 D 계산\n",
        "D = b**2 - 4*a*c\n",
        "\n",
        "# 판별식 결과 출력\n",
        "print(f\"판별식 값은 D = {D:.3f}입니다.\")\n",
        "\n",
        "# 근 계산\n",
        "if D >= 0:  # 실근이 존재하는 경우\n",
        "    x1 = (-b - math.sqrt(D)) / (2 * a)\n",
        "    x2 = (-b + math.sqrt(D)) / (2 * a)\n",
        "    print(f\"근의 값은 x = {x1:.3f}, {x2:.3f}입니다.\")\n",
        "else:  # 실근이 존재하지 않는 경우 (복소수 해)\n",
        "    real_part = -b / (2 * a)\n",
        "    imaginary_part = math.sqrt(-D) / (2 * a)\n",
        "    print(f\"근이 없습니다. 복소수 해는 x = {real_part:.3f} ± {imaginary_part:.3f}i입니다.\")\n"
      ],
      "metadata": {
        "colab": {
          "base_uri": "https://localhost:8080/"
        },
        "id": "PHCXWoyNxum7",
        "outputId": "245f4ef6-45d1-44ba-b519-4b5d15701b91"
      },
      "execution_count": null,
      "outputs": [
        {
          "output_type": "stream",
          "name": "stdout",
          "text": [
            "a 값을 입력하세요: 2\n",
            "b 값을 입력하세요: -5\n",
            "c 값을 입력하세요: 3\n",
            "판별식 값은 D = 1.000입니다.\n",
            "근의 값은 x = 1.000, 1.500입니다.\n"
          ]
        }
      ]
    },
    {
      "cell_type": "code",
      "source": [],
      "metadata": {
        "id": "jT52OHC_x4FW"
      },
      "execution_count": null,
      "outputs": []
    },
    {
      "cell_type": "code",
      "source": [
        "import math\n",
        "\n",
        "a = float(input(\"a 값을 입력하세요: \"))\n",
        "b = float(input(\"b 값을 입력하세요: \"))\n",
        "c = float(input(\"c 값을 입력하세요: \"))\n",
        "\n",
        "D = b**2 - 4*a*c\n",
        "\n",
        "print(f\"판별식 값은 D = {D:.3f}입니다.\")\n",
        "\n",
        "if D >= 0:\n",
        "    x1 = (-b - math.sqrt(D)) / (2 * a)\n",
        "    x2 = (-b + math.sqrt(D)) / (2 * a)\n",
        "    print(f\"근의 값은 x = {x1:.3f}, {x2:.3f}입니다.\")\n",
        "else:\n",
        "    real_part = -b / (2 * a)\n",
        "    imaginary_part = math.sqrt(-D) / (2 * a)\n",
        "    print(f\"근이 없습니다. 복소수 해는 x = {real_part:.3f} ± {imaginary_part:.3f}i입니다.\")\n"
      ],
      "metadata": {
        "colab": {
          "base_uri": "https://localhost:8080/"
        },
        "outputId": "3cb4eec9-5537-4ac9-b767-6ca2bdac36ca",
        "id": "xduiVR33x4V_"
      },
      "execution_count": null,
      "outputs": [
        {
          "output_type": "stream",
          "name": "stdout",
          "text": [
            "a 값을 입력하세요: 2\n",
            "b 값을 입력하세요: 1\n",
            "c 값을 입력하세요: 5\n",
            "판별식 값은 D = -39.000입니다.\n",
            "근이 없습니다. 복소수 해는 x = -0.250 ± 1.561i입니다.\n"
          ]
        }
      ]
    },
    {
      "cell_type": "code",
      "source": [
        "import random\n",
        "\n",
        "my_list = [0.1, 0.2, 0.3, 0.4, 0.5]\n",
        "\n",
        "my_list[0] = random.uniform(0, 1)  # 1번째 값 (인덱스 0)\n",
        "my_list[1] = random.uniform(0, 1)  # 2번째 값 (인덱스 1)\n",
        "my_list[3] = random.uniform(0, 1)  # 4번째 값 (인덱스 3)\n",
        "\n",
        "print(\"수정된 리스트:\", my_list)\n",
        "\n",
        "max_value = max(my_list)\n",
        "min_value = min(my_list)\n",
        "average_value = sum(my_list) / len(my_list)\n",
        "\n",
        "print(\"최대값:\", max_value)\n",
        "print(\"최소값:\", min_value)\n",
        "print(\"평균:\", average_value)\n"
      ],
      "metadata": {
        "colab": {
          "base_uri": "https://localhost:8080/"
        },
        "id": "B9EmV7SxyGF7",
        "outputId": "3eaa2140-fbdb-4612-e156-0031c7f858d3"
      },
      "execution_count": null,
      "outputs": [
        {
          "output_type": "stream",
          "name": "stdout",
          "text": [
            "수정된 리스트: [0.7449098180690307, 0.9178196019677394, 0.3, 0.13367751581766918, 0.5]\n",
            "최대값: 0.9178196019677394\n",
            "최소값: 0.13367751581766918\n",
            "평균: 0.5192813871708879\n"
          ]
        }
      ]
    }
  ]
}